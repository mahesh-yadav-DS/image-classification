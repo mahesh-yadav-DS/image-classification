{
 "cells": [
  {
   "cell_type": "code",
   "execution_count": null,
   "metadata": {
    "colab": {
     "base_uri": "https://localhost:8080/"
    },
    "id": "QK9-Bj0IGpn7",
    "outputId": "945d04dc-7707-4d28-b269-02d7a99845c7"
   },
   "outputs": [],
   "source": [
    "!pip install ipython-autotime\n",
    "%load_ext autotime\n"
   ]
  },
  {
   "cell_type": "code",
   "execution_count": null,
   "metadata": {
    "colab": {
     "base_uri": "https://localhost:8080/"
    },
    "id": "8fdd9497",
    "outputId": "12261043-db9d-4431-f32b-d42e9e9a5485"
   },
   "outputs": [],
   "source": [
    "import time\n",
    "import numpy as np\n",
    "import pandas as pd\n",
    "import tensorflow as tf\n",
    "import seaborn as sns\n",
    "from tensorflow.keras.utils import to_categorical\n",
    "import matplotlib.pyplot as plt\n",
    "%matplotlib inline\n",
    "from sklearn.model_selection import train_test_split\n",
    "from sklearn.metrics import classification_report\n",
    "import keras\n",
    "from keras.callbacks import EarlyStopping\n",
    "from keras.callbacks import ModelCheckpoint\n",
    "from keras.callbacks import LearningRateScheduler\n",
    "from keras.models import Sequential,Input,Model\n",
    "from keras.layers import Dense, Dropout, Flatten\n",
    "from keras.layers import Conv2D, MaxPooling2D,BatchNormalization\n",
    "from tensorflow.keras.models import Sequential\n",
    "from sklearn.model_selection import GridSearchCV\n",
    "from keras.layers.advanced_activations import LeakyReLU\n",
    "from keras.datasets import mnist\n",
    "from sklearn.metrics import auc, accuracy_score, confusion_matrix, mean_squared_error,classification_report\n",
    "# import sklearn.metrics as metrics\n",
    "from xgboost import XGBClassifier\n",
    "from plotly.subplots import make_subplots\n",
    "import plotly.graph_objs as go\n",
    "import pprint\n",
    "from scipy import stats\n",
    "from IPython.display import display"
   ]
  },
  {
   "cell_type": "code",
   "execution_count": null,
   "metadata": {
    "scrolled": true
   },
   "outputs": [],
   "source": [
    "def inspect_performance(model, train_images, train_labels, test_images, test_labels, ypred):\n",
    "    \"Prints training performance, test performance and a performance report\"\n",
    "    print(\"Training accuracy: \", model.score(train_images,train_labels))\n",
    "    print(\"Test accuracy: \", model.score(test_images,test_labels))\n",
    "    print(\"Test report: \")\n",
    "    print(classification_report(ypred, test_labels))\n",
    "\n",
    "def plot_confusion_matrix(labels, predictions):\n",
    "    plt.figure(figsize=[9,6])\n",
    "    \"Plots a confusion matrix using a heatmap\"\n",
    "    mat = confusion_matrix(labels, predictions)\n",
    "    sns.heatmap(mat.T, square=True, annot=True, fmt='d', cbar=False)\n",
    "    plt.xlabel('true label')\n",
    "    plt.ylabel('predicted label')\n",
    "\n",
    "def plot_error(y_pred_mod): # reference link at the end of notebook\n",
    "    y_pred_classes = np.argmax(y_pred_mod,axis =1) \n",
    "    errors = (y_pred_classes - test_Y != 0)\n",
    "    Y_pred_classes_errors = y_pred_classes[errors]\n",
    "    Y_pred_errors = y_pred_mod[errors]\n",
    "    Y_true_errors = test_Y[errors]\n",
    "    X_val_errors = test_X[errors]\n",
    "    def display_errors(errors_index,img_errors,pred_errors, obs_errors):\n",
    "        \"\"\" This function shows 6 images with their predicted and real labels\"\"\"\n",
    "        n = 0\n",
    "        nrows = 3\n",
    "        ncols = 3\n",
    "        fig, ax = plt.subplots(nrows,ncols,sharex=True,sharey=True)\n",
    "        for row in range(nrows):\n",
    "            for col in range(ncols):\n",
    "                error = errors_index[n]\n",
    "                ax[row,col].imshow((img_errors[error]).reshape((28,28)))\n",
    "                ax[row,col].set_title(\"Pred :{} True :{}\".format(pred_errors[error],obs_errors[error]))\n",
    "                n += 1\n",
    "        fig.tight_layout(pad = 1)\n",
    "    Y_pred_errors_prob = np.max(Y_pred_errors,axis = 1)\n",
    "    true_prob_errors = np.diagonal(np.take(Y_pred_errors, Y_true_errors, axis=1))\n",
    "    delta_pred_true_errors = Y_pred_errors_prob - true_prob_errors\n",
    "    sorted_dela_errors = np.argsort(delta_pred_true_errors)\n",
    "    most_important_errors = sorted_dela_errors[-10:]\n",
    "    return(display_errors(most_important_errors, X_val_errors, Y_pred_classes_errors, Y_true_errors))"
   ]
  },
  {
   "cell_type": "code",
   "execution_count": null,
   "metadata": {
    "colab": {
     "base_uri": "https://localhost:8080/"
    },
    "id": "891c48c6",
    "outputId": "216680e5-95d7-4e13-8500-b7af6423844f"
   },
   "outputs": [],
   "source": [
    "(train_X,train_Y), (test_X,test_Y) = mnist.load_data()"
   ]
  },
  {
   "cell_type": "code",
   "execution_count": null,
   "metadata": {
    "colab": {
     "base_uri": "https://localhost:8080/"
    },
    "id": "ed7d9f86",
    "outputId": "30fe6da8-819d-4d24-8269-f93080accb0d"
   },
   "outputs": [],
   "source": [
    "print('Training data shape : ', train_X.shape, train_Y.shape)\n",
    "\n",
    "print('Testing data shape : ', test_X.shape, test_Y.shape)"
   ]
  },
  {
   "cell_type": "code",
   "execution_count": null,
   "metadata": {
    "colab": {
     "base_uri": "https://localhost:8080/"
    },
    "id": "c4556c09",
    "outputId": "b1174d87-01d3-4fac-883a-ff24f2d1b1db"
   },
   "outputs": [],
   "source": [
    "classes = np.unique(train_Y)\n",
    "nClasses = len(classes)\n",
    "print('Total number of outputs : ', nClasses)\n",
    "print('Output classes : ', classes)"
   ]
  },
  {
   "cell_type": "code",
   "execution_count": null,
   "metadata": {
    "colab": {
     "base_uri": "https://localhost:8080/",
     "height": 225
    },
    "id": "bdbb7ddb",
    "outputId": "317cfd8f-d088-4324-c5a2-00d4318fe66e"
   },
   "outputs": [],
   "source": [
    "plt.figure(figsize=[5,5])\n",
    "\n",
    "# Display the first image in training data\n",
    "plt.subplot(121)\n",
    "plt.imshow(train_X[0,:,:], cmap='gray')\n",
    "plt.title(\"Ground Truth : {}\".format(train_Y[0]))\n",
    "\n",
    "\n",
    "# Display the first image in testing data\n",
    "plt.subplot(122)\n",
    "plt.imshow(test_X[0,:,:], cmap='gray')\n",
    "plt.title(\"Ground Truth : {}\".format(test_Y[0]))\n"
   ]
  },
  {
   "cell_type": "code",
   "execution_count": null,
   "metadata": {
    "colab": {
     "base_uri": "https://localhost:8080/"
    },
    "id": "e1001151",
    "outputId": "c4818a9a-b530-465f-80af-bcdd0de83efd"
   },
   "outputs": [],
   "source": [
    "train_X = train_X.reshape(-1, 28,28, 1)\n",
    "test_X = test_X.reshape(-1, 28,28, 1)\n",
    "train_X.shape, test_X.shape"
   ]
  },
  {
   "cell_type": "code",
   "execution_count": null,
   "metadata": {
    "colab": {
     "base_uri": "https://localhost:8080/"
    },
    "id": "a55e0031",
    "outputId": "dc9e28fd-620f-4716-df99-f0e5ba1f07e5"
   },
   "outputs": [],
   "source": [
    "train_X = train_X.astype('float32')\n",
    "test_X = test_X.astype('float32')\n",
    "train_X = train_X / 255.\n",
    "test_X = test_X / 255."
   ]
  },
  {
   "cell_type": "code",
   "execution_count": null,
   "metadata": {
    "colab": {
     "base_uri": "https://localhost:8080/"
    },
    "id": "a95d93a1",
    "outputId": "c5cbec06-cf9f-4bef-ec1d-e47dc8417151"
   },
   "outputs": [],
   "source": [
    "train_X,valid_X,train_label,valid_label = train_test_split(train_X, train_Y, test_size=0.2, random_state=13)"
   ]
  },
  {
   "cell_type": "code",
   "execution_count": null,
   "metadata": {
    "colab": {
     "base_uri": "https://localhost:8080/"
    },
    "id": "daa78549",
    "outputId": "36c901bc-10ba-47bd-a50f-4fb7c578e246"
   },
   "outputs": [],
   "source": [
    "train_label2 = train_label\n",
    "valid_label2 = valid_label\n",
    "train_label = to_categorical(train_label)\n",
    "valid_label = to_categorical(valid_label)\n",
    "test_Y_one_hot = to_categorical(test_Y)"
   ]
  },
  {
   "cell_type": "code",
   "execution_count": null,
   "metadata": {
    "colab": {
     "base_uri": "https://localhost:8080/"
    },
    "id": "829ace8c",
    "outputId": "7eb96bbc-5360-49be-d554-827c157ffdee"
   },
   "outputs": [],
   "source": [
    "train_X.shape,valid_X.shape,train_label.shape,valid_label.shape"
   ]
  },
  {
   "cell_type": "code",
   "execution_count": null,
   "metadata": {
    "colab": {
     "base_uri": "https://localhost:8080/"
    },
    "id": "f8bb6dc3",
    "outputId": "60acaf4a-938d-4c0f-9bdd-ccbbe42a3c38"
   },
   "outputs": [],
   "source": [
    "batch_size = 64\n",
    "epochs = 10\n",
    "num_classes = 10\n",
    "inputs = keras.Input(shape=(784,), name=\"digits\")"
   ]
  },
  {
   "cell_type": "code",
   "execution_count": null,
   "metadata": {
    "colab": {
     "base_uri": "https://localhost:8080/"
    },
    "id": "7b2db01e",
    "outputId": "4acf1737-2645-4676-a9c5-982c4ede33e2"
   },
   "outputs": [],
   "source": [
    "model = Sequential()\n",
    "model.add(Conv2D(32, (3, 3), activation='relu', input_shape=(28,28,1),padding='same'))\n",
    "model.add(BatchNormalization(momentum=0.9, epsilon=1e-5, gamma_initializer=\"uniform\"))\n",
    "model.add(MaxPooling2D(pool_size=(2, 2)))\n",
    "model.add(Dropout(0.25))\n",
    "\n",
    "model.add(Conv2D(64, (3, 3), activation='relu',padding='same'))\n",
    "model.add(BatchNormalization(momentum=0.9, epsilon=1e-5, gamma_initializer=\"uniform\"))\n",
    "model.add(MaxPooling2D(pool_size=(2, 2)))\n",
    "model.add(Dropout(0.25))\n",
    "\n",
    "model.add(Conv2D(128, kernel_size=5, activation='relu',padding='same'))\n",
    "model.add(BatchNormalization(momentum=0.9, epsilon=1e-5, gamma_initializer=\"uniform\"))\n",
    "model.add(MaxPooling2D(pool_size=(2, 2)))\n",
    "model.add(Dropout(0.25))\n",
    "\n",
    "model.add(Conv2D(256, kernel_size=5, activation='relu',padding='same'))\n",
    "model.add(BatchNormalization(momentum=0.9, epsilon=1e-5, gamma_initializer=\"uniform\"))\n",
    "model.add(MaxPooling2D(pool_size=(2, 2)))\n",
    "model.add(Dropout(0.25))\n",
    "\n",
    "model.add(Flatten())\n",
    "\n",
    "model.add(Dense(256, activation='relu', name='my_dense'))\n",
    "model.add(Dropout(0.5))\n",
    "model.add(Dense(128, activation='relu'))\n",
    "model.add(Dropout(0.5))\n",
    "model.add(Dense(10, activation='softmax'))"
   ]
  },
  {
   "cell_type": "code",
   "execution_count": null,
   "metadata": {
    "colab": {
     "base_uri": "https://localhost:8080/"
    },
    "id": "55b8a0cc",
    "outputId": "b2396bb3-6717-4b90-8951-4bf8cd53aaaa",
    "scrolled": true
   },
   "outputs": [],
   "source": [
    "layer_name='my_dense'\n",
    "intermediate_layer_model = Model(inputs=model.input,\n",
    "                                 outputs=model.get_layer(layer_name).output)\n",
    "\n",
    "intermediate_layer_model.summary()"
   ]
  },
  {
   "cell_type": "code",
   "execution_count": null,
   "metadata": {
    "colab": {
     "base_uri": "https://localhost:8080/"
    },
    "id": "4ea4cb4f",
    "outputId": "074aa2a1-739c-45cb-9626-1a54d69df3fc"
   },
   "outputs": [],
   "source": [
    "model.compile(loss=keras.losses.categorical_crossentropy, optimizer=\"adam\",metrics=['accuracy'])\n",
    "es = EarlyStopping(monitor='val_loss', mode='min', verbose=1,patience=3)"
   ]
  },
  {
   "cell_type": "code",
   "execution_count": null,
   "metadata": {
    "colab": {
     "base_uri": "https://localhost:8080/"
    },
    "id": "04354bcc",
    "outputId": "0f966a87-0e1e-4b7e-d299-a3987b1915ba"
   },
   "outputs": [],
   "source": [
    "model_train = model.fit(train_X, train_label, batch_size=batch_size,epochs=epochs,verbose = 1,validation_data=(valid_X, valid_label),callbacks = [es])"
   ]
  },
  {
   "cell_type": "code",
   "execution_count": null,
   "metadata": {
    "colab": {
     "base_uri": "https://localhost:8080/"
    },
    "id": "9c05d66e",
    "outputId": "774eb6b7-a5c1-422d-c365-d28971f72be0"
   },
   "outputs": [],
   "source": [
    "test_eval = model.evaluate(test_X, test_Y_one_hot, verbose=0)"
   ]
  },
  {
   "cell_type": "code",
   "execution_count": null,
   "metadata": {
    "colab": {
     "base_uri": "https://localhost:8080/"
    },
    "id": "1ed3f64c",
    "outputId": "f72b9b31-9dbe-4ab3-bac9-98be5ea37903"
   },
   "outputs": [],
   "source": [
    "print('Test loss:', test_eval[0])\n",
    "print('Test accuracy:', test_eval[1])"
   ]
  },
  {
   "cell_type": "code",
   "execution_count": null,
   "metadata": {
    "colab": {
     "base_uri": "https://localhost:8080/",
     "height": 562
    },
    "id": "e32ccea9",
    "outputId": "5e14ee39-84b2-4f23-fa30-72c175f829b1"
   },
   "outputs": [],
   "source": [
    "accuracy = model_train.history['accuracy']\n",
    "val_accuracy = model_train.history['val_accuracy']\n",
    "loss = model_train.history['loss']\n",
    "val_loss = model_train.history['val_loss']\n",
    "epochs = range(len(accuracy))\n",
    "plt.plot(epochs, accuracy, 'bo', label='Training accuracy')\n",
    "plt.plot(epochs, val_accuracy, 'b', label='Validation accuracy')\n",
    "plt.title('Training and validation accuracy')\n",
    "plt.legend()\n",
    "plt.figure()\n",
    "plt.plot(epochs, loss, 'bo', label='Training loss')\n",
    "plt.plot(epochs, val_loss, 'b', label='Validation loss')\n",
    "plt.title('Training and validation loss')\n",
    "plt.legend()\n",
    "plt.show()"
   ]
  },
  {
   "cell_type": "code",
   "execution_count": null,
   "metadata": {
    "colab": {
     "base_uri": "https://localhost:8080/"
    },
    "id": "664b298f",
    "outputId": "fe6644ba-e111-415a-c727-85abd0412b1e"
   },
   "outputs": [],
   "source": [
    "intermediate_output = intermediate_layer_model.predict(train_X) \n",
    "intermediate_output = pd.DataFrame(data=intermediate_output)"
   ]
  },
  {
   "cell_type": "code",
   "execution_count": null,
   "metadata": {
    "id": "xzLpQs6mKGHV"
   },
   "outputs": [],
   "source": [
    "intermediate_valid_output = intermediate_layer_model.predict(valid_X) \n",
    "intermediate_valid_output = pd.DataFrame(data=intermediate_valid_output)"
   ]
  },
  {
   "cell_type": "code",
   "execution_count": null,
   "metadata": {
    "id": "67338e26"
   },
   "outputs": [],
   "source": [
    "intermediate_test_output = intermediate_layer_model.predict(test_X)\n",
    "intermediate_test_output = pd.DataFrame(data=intermediate_test_output)"
   ]
  },
  {
   "cell_type": "code",
   "execution_count": null,
   "metadata": {
    "id": "l1TNJ8mz0R8D"
   },
   "outputs": [],
   "source": [
    "xgb_cnn = XGBClassifier(\n",
    "    objective= 'multi:softprob',\n",
    "    nthread=4,\n",
    "    seed=42,\n",
    ")"
   ]
  },
  {
   "cell_type": "code",
   "execution_count": null,
   "metadata": {
    "colab": {
     "base_uri": "https://localhost:8080/"
    },
    "id": "AxqtUHTn4K5H",
    "outputId": "0343a2db-edd2-4089-a9d7-1b290d5283dc"
   },
   "outputs": [],
   "source": [
    "eval_set = [(intermediate_valid_output,valid_label2)]"
   ]
  },
  {
   "cell_type": "code",
   "execution_count": null,
   "metadata": {
    "id": "tbX5eNBAp1wy"
   },
   "outputs": [],
   "source": [
    "xgb_cnn.fit(intermediate_output,train_label2,early_stopping_rounds=3, eval_metric=\"mlogloss\", eval_set=eval_set, verbose=True)"
   ]
  },
  {
   "cell_type": "code",
   "execution_count": null,
   "metadata": {
    "id": "P6tWeJk7qCIk"
   },
   "outputs": [],
   "source": [
    "xgb_cnn.score(intermediate_test_output,test_Y)"
   ]
  },
  {
   "cell_type": "code",
   "execution_count": null,
   "metadata": {
    "id": "rIeuILfJtKtk"
   },
   "outputs": [],
   "source": [
    "y_pred_xgb_cnn = xgb_cnn.predict(intermediate_test_output)\n",
    "\n",
    "accuracy_score(test_Y,y_pred_xgb_cnn)"
   ]
  },
  {
   "cell_type": "code",
   "execution_count": null,
   "metadata": {
    "colab": {
     "base_uri": "https://localhost:8080/"
    },
    "id": "0vC2ONtIXkd3",
    "outputId": "6c2e6d08-65de-48f1-c1fb-3a3f9f0d6423"
   },
   "outputs": [],
   "source": [
    "inspect_performance(xgb_cnn, intermediate_output,train_label2, intermediate_test_output, test_Y, y_pred_xgb_cnn)"
   ]
  },
  {
   "cell_type": "code",
   "execution_count": null,
   "metadata": {
    "id": "TkXj5LjjfCfF",
    "scrolled": false
   },
   "outputs": [],
   "source": [
    "plot_confusion_matrix(test_Y,y_pred_xgb_cnn)"
   ]
  },
  {
   "cell_type": "code",
   "execution_count": null,
   "metadata": {},
   "outputs": [],
   "source": [
    "y_pred_xgb_cnn_pro = xgb_cnn.predict_proba(intermediate_test_output)"
   ]
  },
  {
   "cell_type": "code",
   "execution_count": null,
   "metadata": {
    "scrolled": true
   },
   "outputs": [],
   "source": [
    "plot_error(y_pred_xgb_cnn_pro)"
   ]
  },
  {
   "cell_type": "code",
   "execution_count": null,
   "metadata": {},
   "outputs": [],
   "source": [
    "param_grid=[{'max_depth':[5,10,15],\n",
    "           'learning_rate':[0.05,0.3,0.5],\n",
    "           'colsample_bytree':[0.6,0.8,1],\n",
    "            'n_estimators':[50,100,500]}]\n",
    "xgb_cv = GridSearchCV(XGBClassifier(random_state=42), param_grid, scoring='accuracy', n_jobs=-1, cv=5)"
   ]
  },
  {
   "cell_type": "code",
   "execution_count": null,
   "metadata": {},
   "outputs": [],
   "source": [
    "xgb_cv.fit(intermediate_output[:2000],train_label2[:2000])"
   ]
  },
  {
   "cell_type": "code",
   "execution_count": null,
   "metadata": {},
   "outputs": [],
   "source": [
    "y_pred_xgb_cv = xgb_cv.predict(test_X)\n",
    "\n",
    "accuracy_score(test_Y,y_pred_xgb_cv)"
   ]
  },
  {
   "cell_type": "code",
   "execution_count": null,
   "metadata": {},
   "outputs": [],
   "source": [
    "xgb_cv.best_params_"
   ]
  },
  {
   "cell_type": "markdown",
   "metadata": {},
   "source": [
    "#### reference for plot error function\n",
    "https://www.kaggle.com/jsrshivam/mnist-digit-recognition-nn"
   ]
  }
 ],
 "metadata": {
  "colab": {
   "collapsed_sections": [],
   "name": "17-08 cnn+xgboost.ipynb",
   "provenance": []
  },
  "kernelspec": {
   "display_name": "Python 3",
   "language": "python",
   "name": "python3"
  },
  "language_info": {
   "codemirror_mode": {
    "name": "ipython",
    "version": 3
   },
   "file_extension": ".py",
   "mimetype": "text/x-python",
   "name": "python",
   "nbconvert_exporter": "python",
   "pygments_lexer": "ipython3",
   "version": "3.8.3"
  }
 },
 "nbformat": 4,
 "nbformat_minor": 5
}
