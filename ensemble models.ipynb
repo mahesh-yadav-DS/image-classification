{
 "cells": [
  {
   "cell_type": "code",
   "execution_count": null,
   "metadata": {},
   "outputs": [],
   "source": [
    "!pip install ipython-autotime\n",
    "%load_ext autotime"
   ]
  },
  {
   "cell_type": "code",
   "execution_count": null,
   "metadata": {},
   "outputs": [],
   "source": [
    "import time\n",
    "import numpy as np\n",
    "import pandas as pd\n",
    "import seaborn as sns\n",
    "import matplotlib.pyplot as plt\n",
    "%matplotlib inline\n",
    "from sklearn.model_selection import train_test_split,RepeatedStratifiedKFold\n",
    "from sklearn.metrics import classification_report\n",
    "import keras\n",
    "from sklearn.model_selection import GridSearchCV\n",
    "from keras.datasets import mnist\n",
    "from sklearn.metrics import auc, accuracy_score, confusion_matrix, mean_squared_error,classification_report\n",
    "from xgboost import XGBClassifier\n",
    "from catboost import CatBoostClassifier\n",
    "from sklearn.ensemble import AdaBoostClassifier\n",
    "from sklearn.ensemble import RandomForestClassifier"
   ]
  },
  {
   "cell_type": "code",
   "execution_count": null,
   "metadata": {},
   "outputs": [],
   "source": [
    "def inspect_performance(model, train_images, train_labels, test_images, test_labels, pred):\n",
    "    \"Prints training performance, test performance and a performance report\"\n",
    "    print(\"Training accuracy: \", model.score(train_images,train_labels))\n",
    "    print(\"Test accuracy: \", model.score(test_images,test_labels))\n",
    "    print(\"Test report: \")\n",
    "    print(classification_report(pred, test_labels))\n",
    "\n",
    "def plot_confusion_matrix(target, pred):\n",
    "    plt.figure(figsize=[9,6])\n",
    "    \"Plots a confusion matrix using a heatmap\"\n",
    "    conf_mat = confusion_matrix(target, pred)\n",
    "    sns.heatmap(mat.T, square=True, annot=True, fmt='d', cbar=False)\n",
    "    plt.xlabel('true label')\n",
    "    plt.ylabel('predicted label')\n",
    "\n",
    "def plot_error(y_pred): # reference link at the end of notebook\n",
    "    y_pred_classes = np.argmax(y_pred,axis =1) \n",
    "    errors = (y_pred_classes - test_Y != 0)\n",
    "    Y_pred_classes_errors = y_pred_classes[errors]\n",
    "    Y_pred_errors = y_pred[errors]\n",
    "    Y_true_errors = test_Y[errors]\n",
    "    X_val_errors = test_X[errors]\n",
    "    def display_errors(errors_index,img_errors,pred_errors, obs_errors):\n",
    "        \"\"\" This function shows 6 images with their predicted and real labels\"\"\"\n",
    "        n = 0\n",
    "        nrows = 3\n",
    "        ncols = 3\n",
    "        fig, ax = plt.subplots(nrows,ncols,sharex=True,sharey=True)\n",
    "        for row in range(nrows):\n",
    "            for col in range(ncols):\n",
    "                error = errors_index[n]\n",
    "                ax[row,col].imshow((img_errors[error]).reshape((28,28)))\n",
    "                ax[row,col].set_title(\"Pred :{} True :{}\".format(pred_errors[error],obs_errors[error]))\n",
    "                n += 1\n",
    "        fig.tight_layout(pad = 1)\n",
    "    Y_pred_errors_prob = np.max(Y_pred_errors,axis = 1)\n",
    "    true_prob_errors = np.diagonal(np.take(Y_pred_errors, Y_true_errors, axis=1))\n",
    "    delta_pred_true_errors = Y_pred_errors_prob - true_prob_errors\n",
    "    sorted_dela_errors = np.argsort(delta_pred_true_errors)\n",
    "    most_important_errors = sorted_dela_errors[-10:]\n",
    "    return(display_errors(most_important_errors, X_val_errors, Y_pred_classes_errors, Y_true_errors))"
   ]
  },
  {
   "cell_type": "code",
   "execution_count": null,
   "metadata": {},
   "outputs": [],
   "source": [
    "(train_X,train_Y), (test_X,test_Y) = mnist.load_data()"
   ]
  },
  {
   "cell_type": "code",
   "execution_count": null,
   "metadata": {},
   "outputs": [],
   "source": [
    "print('Training data shape : ', train_X.shape, train_Y.shape)\n",
    "\n",
    "print('Testing data shape : ', test_X.shape, test_Y.shape)"
   ]
  },
  {
   "cell_type": "code",
   "execution_count": null,
   "metadata": {
    "scrolled": true
   },
   "outputs": [],
   "source": [
    "classes = np.unique(train_Y)\n",
    "nClasses = len(classes)\n",
    "print('Total number of outputs : ', nClasses)\n",
    "print('Output classes : ', classes)"
   ]
  },
  {
   "cell_type": "code",
   "execution_count": null,
   "metadata": {},
   "outputs": [],
   "source": [
    "train_Y.shape"
   ]
  },
  {
   "cell_type": "code",
   "execution_count": null,
   "metadata": {},
   "outputs": [],
   "source": [
    "sns.countplot(train_Y)\n",
    "plt.show()"
   ]
  },
  {
   "cell_type": "code",
   "execution_count": null,
   "metadata": {},
   "outputs": [],
   "source": [
    "train_X = train_X.reshape(-1, 784)\n",
    "test_X = test_X.reshape(-1, 784)"
   ]
  },
  {
   "cell_type": "code",
   "execution_count": null,
   "metadata": {},
   "outputs": [],
   "source": [
    "train_X = train_X.astype('float32')\n",
    "test_X = test_X.astype('float32')\n",
    "train_X = train_X / 255.\n",
    "test_X = test_X / 255. "
   ]
  },
  {
   "cell_type": "code",
   "execution_count": null,
   "metadata": {},
   "outputs": [],
   "source": [
    "train_X,valid_X,train_label,valid_label = train_test_split(train_X, train_Y, test_size=0.2, random_state=13)"
   ]
  },
  {
   "cell_type": "markdown",
   "metadata": {},
   "source": [
    "# AdaBoost"
   ]
  },
  {
   "cell_type": "code",
   "execution_count": null,
   "metadata": {},
   "outputs": [],
   "source": [
    "adb = AdaBoostClassifier(algorithm='SAMME.R',n_estimators= 100, learning_rate = 0.1)\n",
    "ada = adb.fit(train_X,train_label)"
   ]
  },
  {
   "cell_type": "code",
   "execution_count": null,
   "metadata": {
    "scrolled": true
   },
   "outputs": [],
   "source": [
    "y_pred_ada = ada.predict(test_X)\n",
    "inspect_performance(ada,train_X,train_label, test_X, test_Y, y_pred_ada)"
   ]
  },
  {
   "cell_type": "code",
   "execution_count": null,
   "metadata": {
    "scrolled": true
   },
   "outputs": [],
   "source": [
    "y_pred_ada_pro = ada.predict_proba(test_X)\n",
    "plot_error(y_pred_ada_pro)"
   ]
  },
  {
   "cell_type": "code",
   "execution_count": null,
   "metadata": {},
   "outputs": [],
   "source": [
    "plot_confusion_matrix(test_Y,y_pred_ada)"
   ]
  },
  {
   "cell_type": "markdown",
   "metadata": {},
   "source": [
    "### GridSearch CV (Ada)"
   ]
  },
  {
   "cell_type": "code",
   "execution_count": null,
   "metadata": {},
   "outputs": [],
   "source": [
    "grid = dict()\n",
    "grid['n_estimators'] = [50, 100, 500]\n",
    "grid['learning_rate'] = [0.01, 0.1,0.5]\n",
    "cv = RepeatedStratifiedKFold(n_splits=10, n_repeats=3, random_state=1)\n",
    "ada_cv = GridSearchCV(estimator=AdaBoostClassifier(), param_grid=grid, n_jobs=-1, cv=cv, scoring='accuracy')"
   ]
  },
  {
   "cell_type": "code",
   "execution_count": null,
   "metadata": {
    "scrolled": false
   },
   "outputs": [],
   "source": [
    "ada_cv.fit(train_X[:4000],train_label[:4000])"
   ]
  },
  {
   "cell_type": "code",
   "execution_count": null,
   "metadata": {},
   "outputs": [],
   "source": [
    "y_pred_ada_cv = ada_cv.predict(test_X)\n",
    "\n",
    "accuracy_score(test_Y,y_pred_ada_cv)"
   ]
  },
  {
   "cell_type": "code",
   "execution_count": null,
   "metadata": {},
   "outputs": [],
   "source": [
    "ada_cv.best_params_"
   ]
  },
  {
   "cell_type": "markdown",
   "metadata": {},
   "source": [
    "# Random Forest"
   ]
  },
  {
   "cell_type": "code",
   "execution_count": null,
   "metadata": {},
   "outputs": [],
   "source": [
    "rfc = RandomForestClassifier(n_jobs=-1, n_estimators=10)\n",
    "rfc.fit(train_X,train_label)"
   ]
  },
  {
   "cell_type": "code",
   "execution_count": null,
   "metadata": {},
   "outputs": [],
   "source": [
    "y_pred_rfc = rfc.predict(test_X)\n",
    "inspect_performance(rfc,train_X,train_label, test_X, test_Y, y_pred_rfc)"
   ]
  },
  {
   "cell_type": "code",
   "execution_count": null,
   "metadata": {},
   "outputs": [],
   "source": [
    "plot_confusion_matrix(test_Y,y_pred_rfc)"
   ]
  },
  {
   "cell_type": "code",
   "execution_count": null,
   "metadata": {},
   "outputs": [],
   "source": [
    "y_pred_rfc_pro = rfc.predict_proba(test_X)\n",
    "plot_error(y_pred_rfc_pro)"
   ]
  },
  {
   "cell_type": "markdown",
   "metadata": {},
   "source": [
    "### Gridsearch CV (RF)"
   ]
  },
  {
   "cell_type": "code",
   "execution_count": null,
   "metadata": {},
   "outputs": [],
   "source": [
    "param_grid = {\n",
    "    'max_depth': [80, 90, 100, 110],\n",
    "    'min_samples_leaf': [1,3],\n",
    "    'min_samples_split': [2,5],\n",
    "    'n_estimators': [50,100]\n",
    "}\n",
    "rfc_cv = GridSearchCV(RandomForestClassifier(), param_grid = param_grid, cv = 5, verbose = 5, n_jobs = -1)"
   ]
  },
  {
   "cell_type": "code",
   "execution_count": null,
   "metadata": {
    "scrolled": true
   },
   "outputs": [],
   "source": [
    "rfc_cv.fit(train_X,train_label)"
   ]
  },
  {
   "cell_type": "code",
   "execution_count": null,
   "metadata": {},
   "outputs": [],
   "source": [
    "y_pred_rfc_cv = rfc_cv.predict(test_X)\n",
    "\n",
    "accuracy_score(test_Y,y_pred_rfc_cv)"
   ]
  },
  {
   "cell_type": "code",
   "execution_count": null,
   "metadata": {},
   "outputs": [],
   "source": [
    "rfc_cv.best_params_"
   ]
  },
  {
   "cell_type": "markdown",
   "metadata": {},
   "source": [
    "# XGBoost"
   ]
  },
  {
   "cell_type": "code",
   "execution_count": null,
   "metadata": {},
   "outputs": [],
   "source": [
    "xgb = XGBClassifier(\n",
    "    objective= 'multi:softprob',\n",
    "    nthread=4,\n",
    "    seed=42,\n",
    "    num_class=10,\n",
    ")\n",
    "eval_set = [(train_X,train_label),(valid_X,valid_label)]"
   ]
  },
  {
   "cell_type": "code",
   "execution_count": null,
   "metadata": {},
   "outputs": [],
   "source": [
    "xgb.fit(train_X,train_label,early_stopping_rounds=3, eval_metric=[\"merror\", \"mlogloss\"], eval_set=eval_set, verbose=True)"
   ]
  },
  {
   "cell_type": "code",
   "execution_count": null,
   "metadata": {},
   "outputs": [],
   "source": [
    "y_pred_xgb = xgb.predict(test_X)\n",
    "inspect_performance(xgb,train_X,train_label, test_X, test_Y, y_pred_xgb)"
   ]
  },
  {
   "cell_type": "code",
   "execution_count": null,
   "metadata": {},
   "outputs": [],
   "source": [
    "plot_confusion_matrix(test_Y,y_pred_xgb)"
   ]
  },
  {
   "cell_type": "code",
   "execution_count": null,
   "metadata": {},
   "outputs": [],
   "source": [
    "y_pred_xgb_pro = xgb.predict_proba(test_X)\n",
    "plot_error(y_pred_xgb_pro)"
   ]
  },
  {
   "cell_type": "markdown",
   "metadata": {},
   "source": [
    "### GridSearch CV (XGB)"
   ]
  },
  {
   "cell_type": "code",
   "execution_count": null,
   "metadata": {},
   "outputs": [],
   "source": [
    "param_grid=[{'max_depth':[5,10,15],\n",
    "           'learning_rate':[0.3,0.5],\n",
    "           'colsample_bytree':[0.6,0.8,1],\n",
    "            'n_estimators':[50,100,500]}]\n",
    "xgb_cv = GridSearchCV(XGBClassifier(random_state=42), param_grid, scoring='accuracy', n_jobs=-1, cv=5)"
   ]
  },
  {
   "cell_type": "code",
   "execution_count": null,
   "metadata": {},
   "outputs": [],
   "source": [
    "xgb_cv.fit(train_X[:2000],train_label[:2000])"
   ]
  },
  {
   "cell_type": "code",
   "execution_count": null,
   "metadata": {},
   "outputs": [],
   "source": [
    "y_pred_xgb_cv = xgb_cv.predict(test_X)\n",
    "\n",
    "accuracy_score(test_Y,y_pred_xgb_cv)"
   ]
  },
  {
   "cell_type": "code",
   "execution_count": null,
   "metadata": {},
   "outputs": [],
   "source": [
    "xgb_cv.best_params_"
   ]
  },
  {
   "cell_type": "markdown",
   "metadata": {},
   "source": [
    "# CatBoost"
   ]
  },
  {
   "cell_type": "code",
   "execution_count": null,
   "metadata": {},
   "outputs": [],
   "source": [
    "cat = CatBoostClassifier(n_estimators=50, verbose=False, max_depth=6,loss_function='MultiClass')\n",
    "eval_set = [(train_X,train_label),(valid_X,valid_label)]\n",
    "cat.fit(train_X,train_label,eval_set = eval_set)"
   ]
  },
  {
   "cell_type": "code",
   "execution_count": null,
   "metadata": {},
   "outputs": [],
   "source": [
    "y_pred_cat = cat.predict(test_X)\n",
    "inspect_performance(cat,train_X,train_label, test_X, test_Y, y_pred_cat)"
   ]
  },
  {
   "cell_type": "code",
   "execution_count": null,
   "metadata": {},
   "outputs": [],
   "source": [
    "plot_confusion_matrix(test_Y,y_pred_cat)"
   ]
  },
  {
   "cell_type": "code",
   "execution_count": null,
   "metadata": {},
   "outputs": [],
   "source": [
    "y_pred_cat_pro = cat.predict_proba(test_X)\n",
    "plot_error(y_pred_cat_pro)"
   ]
  },
  {
   "cell_type": "markdown",
   "metadata": {},
   "source": [
    "### GridSearch CV (Cat)"
   ]
  },
  {
   "cell_type": "code",
   "execution_count": null,
   "metadata": {},
   "outputs": [],
   "source": [
    "param_grid=[{'n_estimators':[10,50,100],\n",
    "            'learning_rate':[0.05,0.1],\n",
    "            'rsm':[0.5,0.8]}]\n",
    "cat_cv = GridSearchCV(CatBoostClassifier(random_state=42, silent = True,\n",
    "                        bootstrap_type = 'Bernoulli'), param_grid, scoring='accuracy', n_jobs=-1, cv=5)"
   ]
  },
  {
   "cell_type": "code",
   "execution_count": null,
   "metadata": {},
   "outputs": [],
   "source": [
    "cat_cv.fit(train_X,train_label)"
   ]
  },
  {
   "cell_type": "code",
   "execution_count": null,
   "metadata": {},
   "outputs": [],
   "source": [
    "y_pred_cat_cv = cat_cv.predict(test_X)\n",
    "\n",
    "accuracy_score(test_Y,y_pred_cat_cv)"
   ]
  },
  {
   "cell_type": "code",
   "execution_count": null,
   "metadata": {},
   "outputs": [],
   "source": [
    "cat_cv.best_params_"
   ]
  },
  {
   "cell_type": "markdown",
   "metadata": {},
   "source": [
    "#### reference for plot error function\n",
    "https://www.kaggle.com/jsrshivam/mnist-digit-recognition-nn"
   ]
  }
 ],
 "metadata": {
  "kernelspec": {
   "display_name": "Python 3",
   "language": "python",
   "name": "python3"
  },
  "language_info": {
   "codemirror_mode": {
    "name": "ipython",
    "version": 3
   },
   "file_extension": ".py",
   "mimetype": "text/x-python",
   "name": "python",
   "nbconvert_exporter": "python",
   "pygments_lexer": "ipython3",
   "version": "3.8.3"
  }
 },
 "nbformat": 4,
 "nbformat_minor": 4
}
